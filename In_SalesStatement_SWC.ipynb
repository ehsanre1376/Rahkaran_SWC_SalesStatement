{
 "cells": [
  {
   "cell_type": "code",
   "execution_count": null,
   "metadata": {
    "dotnet_interactive": {
     "language": "csharp"
    },
    "polyglot_notebook": {
     "kernelName": "csharp"
    },
    "vscode": {
     "languageId": "polyglot-notebook"
    }
   },
   "outputs": [],
   "source": [
    "%pip install requests\n",
    "%pip install rsa"
   ]
  },
  {
   "cell_type": "code",
   "execution_count": null,
   "metadata": {
    "vscode": {
     "languageId": "polyglot-notebook"
    }
   },
   "outputs": [],
   "source": [
    "import requests\n",
    "import rsa\n",
    "import json\n",
    "import binascii\n",
    "import json\n",
    "import random\n",
    "\n",
    "G_BaseURL = \"http://192.168.80.147/TESTwebservices_SWC\"\n",
    "#G_BaseURL = \"http://78.158.168.230/TESTwebservices_SWC\"\n",
    "G_UserName = \"admin\"\n",
    "G_PassWord = \"admin\"\n",
    "\n",
    "\n",
    "def hex_string_to_bytes(hex_string):\n",
    "    return binascii.unhexlify(hex_string)\n",
    "def bytes_to_hex_string(byte_array):\n",
    "    return binascii.hexlify(byte_array).decode()\n",
    "def login(user_name=G_UserName, password=G_PassWord):\n",
    "    url = G_BaseURL + \"/Services/Framework/AuthenticationService.svc\"\n",
    "    session_url = url + \"/session\"\n",
    "    login_url = url + \"/login\"\n",
    "    response = requests.get(session_url)\n",
    "    if response.status_code != 200:\n",
    "        raise Exception(\"GET /session {}\".format(response.status_code))\n",
    "    session = json.loads(response.text)\n",
    "    m = hex_string_to_bytes(session[\"rsa\"][\"M\"])\n",
    "    e = hex_string_to_bytes(session[\"rsa\"][\"E\"])\n",
    "    rsa_key = rsa.PublicKey(\n",
    "        int.from_bytes(m, byteorder=\"big\"), int.from_bytes(e, byteorder=\"big\")\n",
    "    )\n",
    "    session_plus_password = session[\"id\"] + \"**\" + password\n",
    "    encrypted_password = rsa.encrypt(session_plus_password.encode(), rsa_key)\n",
    "    headers = {\"content-Type\": \"application/json\"}\n",
    "    data = {\n",
    "        \"sessionId\": session[\"id\"],\n",
    "        \"username\": user_name,\n",
    "        \"password\": bytes_to_hex_string(encrypted_password),\n",
    "    }\n",
    "    response = requests.post(login_url, headers=headers, data=json.dumps(data))\n",
    "    if response.status_code != 200:\n",
    "        raise Exception(\"POST /login {}\".format(response.status_code))\n",
    "    # session = response.headers[\"Set-Cookie\"].split(\",\")[2].split(\";\")[0].strip()\n",
    "    session = response.headers[\"Set-Cookie\"].split(\",\")[1].split(\";\")[0].strip()\n",
    "    return session\n",
    "\n",
    "\n",
    "session = login()\n",
    "print(session)"
   ]
  },
  {
   "cell_type": "code",
   "execution_count": null,
   "metadata": {
    "vscode": {
     "languageId": "polyglot-notebook"
    }
   },
   "outputs": [],
   "source": [
    "\"\"\"\n",
    "    get all  GetRegionalDivisionList\n",
    "\"\"\"\n",
    "\n",
    "\n",
    "\n",
    "def GetRegionalDivisionList(session):\n",
    "    url = (\n",
    "        G_BaseURL\n",
    "        + \"/General/AddressManagement/Services/AddressManagementWebService.svc/GetRegionalDivisionList\"\n",
    "    )\n",
    "    headers = {\"Cookie\": session, \"content-Type\": \"application/json\"}\n",
    "    response = requests.get(url, headers=headers)\n",
    "    if response.status_code != 200:\n",
    "        raise Exception(\"GET /GetAllCostCenters {}\".format(response.status_code))\n",
    "    return response.json()\n",
    "\n",
    "\n",
    "# Use the session_id and auth_cookie from the login function\n",
    "# cost_centers = get_all_cost_centers(session)\n",
    "# print(cost_centers)\n",
    "# json_str = json.dumps(your_list)\n",
    "# parsed = json.loads(cost_centers)\n",
    "\n",
    "# Pretty print the parsed data\n",
    "# print(json.dumps(parsed, indent=4))\n",
    "\n",
    "print(\n",
    "    json.dumps(\n",
    "        json.loads(json.dumps(GetRegionalDivisionList(session))),\n",
    "        indent=4,\n",
    "        ensure_ascii=False,\n",
    "    )\n",
    ")\n",
    "# \"\"\""
   ]
  },
  {
   "cell_type": "code",
   "execution_count": null,
   "metadata": {
    "vscode": {
     "languageId": "polyglot-notebook"
    }
   },
   "outputs": [],
   "source": [
    "# \"\"\"\n",
    "\n",
    "\n",
    "def salesStatementRegister(session, data):\n",
    "    url = G_BaseURL + \"/System/BusinessRuleEngine/Service.svc/call\"\n",
    "    headers = {\"Cookie\": session, \"content-Type\": \"application/json\"}\n",
    "    JsonData = {\"Name\": \"SalesStatementRegister\", \"Parameters\": json.dumps(data)}\n",
    "    response = requests.post(url, headers=headers, data=json.dumps(JsonData))\n",
    "    if response.status_code != 200:\n",
    "        #raise Exception(\"salesStatementRegister\".format(response.status_code))\n",
    "        print(\"hi\")\n",
    "    return response.json()\n",
    "\n",
    "\n",
    "SalesStatement = {\n",
    "    \"Number\": \"\",\n",
    "    \"SupplierCode\" : \"37801\",\n",
    "\n",
    "    \"Date\": \"05/12/2024 00:00:00\",\n",
    "    \"SalesOfficeRef\": \"1\",  # همیشه 1\n",
    "    \"SalesAreaRef\": \"1\",  # همیشه 1\n",
    "    \"RecipientType\": \"4\",  # نوع تحویل گیرنده\n",
    "    \"RecipientRef\": 88,  # شناسه مشتری تحویل گیرنده یا موسسه حمل\n",
    "    \"SellerBrokerRef\": \"1\",  # همیشه 1\n",
    "   \n",
    "    \"DeliveryAddressType\": \"1\",  # نوع نشانی همیشه مشتری  1 موسسه حمل 2\n",
    "    \"StatementType\": \"1\",  # همیشه 1 نوع اعلامیه\n",
    "    \"DeliverySpace\": \"08/09/2028 00:00:00\",\n",
    "    \"ContractNo\": str(random.randint(1, 99999999)),  # شماره قرارداد\n",
    "    \"PlantRef\": \"1\",  # شماره مرکز همیشه 1\n",
    "  \n",
    "    \"ReferenceType\": \"1\",  # ؟همیشه 1\n",
    "  \n",
    "    \"SalesTypeRef\": \"1\",  # نوع فروش همیشه 1\n",
    "    \"InventoryRef\": \"3\",  # شناسه انبار همیشه 3\n",
    "    \"SalesStatementWageResults\": [  # کارمزدها\n",
    "        {\n",
    "            \"BrokerServiceRef\": \"1\",  # کارمزد فروش بورسی\n",
    "            \"CalculationPrecedence\": \"0\",  # همیشه 0\n",
    "            \"CurrencyRef\": \"1\",  # همیشه 1 نوع ارز\n",
    "            \"Value\": \"2502\",  # مبلغ کارمز\n",
    "            \"ValueSetByUser\": True,  # همیشه درست\n",
    "        },\n",
    "        {\n",
    "            \"BrokerServiceRef\": \"2\",  # کارمزد حق درج\n",
    "            \"CalculationPrecedence\": \"0\",\n",
    "            \"CurrencyRef\": \"1\",\n",
    "            \"Value\": \"300\",\n",
    "            \"ValueSetByUser\": True,\n",
    "        },\n",
    "    ],\n",
    "    \"SalesStatementItems\": [  # اقلام\n",
    "        {\n",
    "            \"ProductRef\": \"9216\",  # شناسه محصول همیشه 9216؟\n",
    "            \"ProductUnitRef\": \"1\",  # واحد سنجش همیشه 1\n",
    "            \"InitialQuantity\": \"10\",  # مقدار\n",
    "            \"Fee\": \"900000\",  # نرخ\n",
    "        }\n",
    "    ],\n",
    "}\n",
    "# data = {\"SalesStatement\": SalesStatement}\n",
    "# ERA = salesStatementRegister(session, {\"SalesStatement\": SalesStatement})\n",
    "print(salesStatementRegister(session, {\"SalesStatement\": SalesStatement}))"
   ]
  }
 ],
 "metadata": {
  "kernelspec": {
   "display_name": ".NET (C#)",
   "language": "C#",
   "name": ".net-csharp"
  },
  "language_info": {
   "codemirror_mode": {
    "name": "ipython",
    "version": 3
   },
   "file_extension": ".py",
   "mimetype": "text/x-python",
   "name": "python",
   "nbconvert_exporter": "python",
   "pygments_lexer": "ipython3",
   "version": "3.12.2"
  },
  "polyglot_notebook": {
   "kernelInfo": {
    "defaultKernelName": "csharp",
    "items": [
     {
      "aliases": [],
      "name": "csharp"
     }
    ]
   }
  }
 },
 "nbformat": 4,
 "nbformat_minor": 2
}
